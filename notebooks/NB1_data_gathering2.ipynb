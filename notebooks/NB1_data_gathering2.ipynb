{
 "metadata": {
  "name": ""
 },
 "nbformat": 3,
 "nbformat_minor": 0,
 "worksheets": [
  {
   "cells": [
    {
     "cell_type": "heading",
     "level": 1,
     "metadata": {},
     "source": [
      "Creating the Directory Structure"
     ]
    },
    {
     "cell_type": "markdown",
     "metadata": {},
     "source": [
      "First, create necessary directories to store our data in during future steps of the project. The directories are created as subdirectories within the directory this notebook resides in."
     ]
    },
    {
     "cell_type": "code",
     "collapsed": false,
     "input": [
      "%%bash\n",
      "\n",
      "mkdir ./script ./data ./data/raw ./data/cleaned ./data/simulated ./visualizations\n",
      "ls -r"
     ],
     "language": "python",
     "metadata": {},
     "outputs": [
      {
       "output_type": "stream",
       "stream": "stdout",
       "text": [
        "world-110m2.json\n",
        "visualizations\n",
        "topojson.v0.min.js\n",
        "script\n",
        "NB1_data_gathering.ipynb\n",
        "index.html~\n",
        "index.html\n",
        "Data Gathering TBR.ipynb\n",
        "data\n",
        "d3\n"
       ]
      }
     ],
     "prompt_number": 24
    },
    {
     "cell_type": "heading",
     "level": 1,
     "metadata": {},
     "source": [
      "Collecting the Data"
     ]
    },
    {
     "cell_type": "markdown",
     "metadata": {},
     "source": [
      "Import the necessary Python libraries to collect data."
     ]
    },
    {
     "cell_type": "code",
     "collapsed": false,
     "input": [
      "import pandas as pd\n",
      "import pandas.io.data as web\n",
      "from pandas import Series, DataFrame\n",
      "import datetime\n",
      "from pandas.tools.plotting import scatter_matrix"
     ],
     "language": "python",
     "metadata": {},
     "outputs": [],
     "prompt_number": 25
    },
    {
     "cell_type": "markdown",
     "metadata": {},
     "source": [
      "Chose a period of ~2 years, a significant amount of data. Had to move start date back to 5/7/2010, as this is the earliest date for which Yahoo finance has closing price data for USA (surprisingly, Yahoo finance for all other countries had a much larger date range)."
     ]
    },
    {
     "cell_type": "code",
     "collapsed": false,
     "input": [
      "start = datetime.datetime(2010, 5, 7)\n",
      "end = datetime.datetime(2013, 1, 27)"
     ],
     "language": "python",
     "metadata": {},
     "outputs": [],
     "prompt_number": 26
    },
    {
     "cell_type": "markdown",
     "metadata": {},
     "source": [
      "Use pandas method \"DataReader\" to attain data directly from Yahoo Finance, allowing us to open project on any computer and access data through notebook. The data is stored directly into the format of a dataframe."
     ]
    },
    {
     "cell_type": "code",
     "collapsed": false,
     "input": [
      "a = web.DataReader('THD', 'yahoo', start, end)\n",
      "a.head()   "
     ],
     "language": "python",
     "metadata": {},
     "outputs": [
      {
       "html": [
        "<div style=\"max-height:1000px;max-width:1500px;overflow:auto;\">\n",
        "<table border=\"1\" class=\"dataframe\">\n",
        "  <thead>\n",
        "    <tr style=\"text-align: right;\">\n",
        "      <th></th>\n",
        "      <th>Open</th>\n",
        "      <th>High</th>\n",
        "      <th>Low</th>\n",
        "      <th>Close</th>\n",
        "      <th>Volume</th>\n",
        "      <th>Adj Close</th>\n",
        "    </tr>\n",
        "    <tr>\n",
        "      <th>Date</th>\n",
        "      <th></th>\n",
        "      <th></th>\n",
        "      <th></th>\n",
        "      <th></th>\n",
        "      <th></th>\n",
        "      <th></th>\n",
        "    </tr>\n",
        "  </thead>\n",
        "  <tbody>\n",
        "    <tr>\n",
        "      <th>2010-05-07</th>\n",
        "      <td> 46.18</td>\n",
        "      <td> 46.79</td>\n",
        "      <td> 45.22</td>\n",
        "      <td> 46.01</td>\n",
        "      <td> 1195000</td>\n",
        "      <td> 41.36</td>\n",
        "    </tr>\n",
        "    <tr>\n",
        "      <th>2010-05-10</th>\n",
        "      <td> 47.35</td>\n",
        "      <td> 47.90</td>\n",
        "      <td> 46.75</td>\n",
        "      <td> 47.90</td>\n",
        "      <td>  325000</td>\n",
        "      <td> 43.06</td>\n",
        "    </tr>\n",
        "    <tr>\n",
        "      <th>2010-05-11</th>\n",
        "      <td> 46.62</td>\n",
        "      <td> 47.61</td>\n",
        "      <td> 46.62</td>\n",
        "      <td> 47.27</td>\n",
        "      <td>  608000</td>\n",
        "      <td> 42.49</td>\n",
        "    </tr>\n",
        "    <tr>\n",
        "      <th>2010-05-12</th>\n",
        "      <td> 47.52</td>\n",
        "      <td> 47.60</td>\n",
        "      <td> 47.18</td>\n",
        "      <td> 47.44</td>\n",
        "      <td>  107200</td>\n",
        "      <td> 42.64</td>\n",
        "    </tr>\n",
        "    <tr>\n",
        "      <th>2010-05-13</th>\n",
        "      <td> 46.65</td>\n",
        "      <td> 46.66</td>\n",
        "      <td> 45.80</td>\n",
        "      <td> 45.99</td>\n",
        "      <td>  355600</td>\n",
        "      <td> 41.34</td>\n",
        "    </tr>\n",
        "  </tbody>\n",
        "</table>\n",
        "<p>5 rows \u00d7 6 columns</p>\n",
        "</div>"
       ],
       "metadata": {},
       "output_type": "pyout",
       "prompt_number": 27,
       "text": [
        "             Open   High    Low  Close   Volume  Adj Close\n",
        "Date                                                      \n",
        "2010-05-07  46.18  46.79  45.22  46.01  1195000      41.36\n",
        "2010-05-10  47.35  47.90  46.75  47.90   325000      43.06\n",
        "2010-05-11  46.62  47.61  46.62  47.27   608000      42.49\n",
        "2010-05-12  47.52  47.60  47.18  47.44   107200      42.64\n",
        "2010-05-13  46.65  46.66  45.80  45.99   355600      41.34\n",
        "\n",
        "[5 rows x 6 columns]"
       ]
      }
     ],
     "prompt_number": 27
    },
    {
     "cell_type": "markdown",
     "metadata": {},
     "source": [
      "Select the column \"Close\" from each country's historical prices dataframe. Each three/four letter access code was found by searching \"MSCI [country name]\"  in yahoo"
     ]
    },
    {
     "cell_type": "code",
     "collapsed": false,
     "input": [
      "japan = web.DataReader(\"EWJ\", 'yahoo', start, end)['Close']\n",
      "australia = web.DataReader(\"EWA\", 'yahoo', start, end)['Close']\n",
      "canada = web.DataReader(\"EWC\", 'yahoo', start, end)['Close']\n",
      "france = web.DataReader(\"EWQ\", 'yahoo', start, end)['Close']\n",
      "germany = web.DataReader(\"EWG\", 'yahoo', start, end)['Close']\n",
      "hongkong = web.DataReader(\"EWH\", 'yahoo', start, end)['Close']\n",
      "netherlands = web.DataReader(\"EWN\", 'yahoo', start, end)['Close']\n",
      "singapore = web.DataReader(\"EWS\", 'yahoo', start, end)['Close']\n",
      "sweden = web.DataReader(\"EWD\", 'yahoo', start, end)['Close']\n",
      "uk = web.DataReader(\"EWU\", 'yahoo', start, end)['Close']\n",
      "taiwan = web.DataReader(\"EWT\", 'yahoo', start, end)['Close']\n",
      "usa = web.DataReader(\"EUSA\", 'yahoo', start, end)['Close']"
     ],
     "language": "python",
     "metadata": {},
     "outputs": [],
     "prompt_number": 28
    },
    {
     "cell_type": "markdown",
     "metadata": {},
     "source": [
      "Each variable now contains a map between dates and closing prices. This data is stored in the form of a time series."
     ]
    },
    {
     "cell_type": "code",
     "collapsed": false,
     "input": [
      "print usa.head()"
     ],
     "language": "python",
     "metadata": {},
     "outputs": [
      {
       "output_type": "stream",
       "stream": "stdout",
       "text": [
        "Date\n",
        "2010-05-07    23.65\n",
        "2010-05-10    24.63\n",
        "2010-05-11    24.50\n",
        "2010-05-12    24.88\n",
        "2010-05-13    24.93\n",
        "Name: Close, dtype: float64\n"
       ]
      }
     ],
     "prompt_number": 29
    },
    {
     "cell_type": "code",
     "collapsed": false,
     "input": [
      "type(usa)"
     ],
     "language": "python",
     "metadata": {},
     "outputs": [
      {
       "metadata": {},
       "output_type": "pyout",
       "prompt_number": 30,
       "text": [
        "pandas.core.series.Series"
       ]
      }
     ],
     "prompt_number": 30
    },
    {
     "cell_type": "markdown",
     "metadata": {},
     "source": [
      "Package all the time series into a single dataframe."
     ]
    },
    {
     "cell_type": "code",
     "collapsed": false,
     "input": [
      "di = {'Japan': japan, 'Canada': canada, 'France': france, 'Germany': germany, 'Hong Kong':hongkong,'Netherlands':netherlands,'Singapore':singapore,'Sweden':sweden,'U.K.':uk,'Taiwan':taiwan,'USA':usa}"
     ],
     "language": "python",
     "metadata": {},
     "outputs": [],
     "prompt_number": 31
    },
    {
     "cell_type": "code",
     "collapsed": false,
     "input": [
      "df = DataFrame(di)"
     ],
     "language": "python",
     "metadata": {},
     "outputs": [],
     "prompt_number": 32
    },
    {
     "cell_type": "markdown",
     "metadata": {},
     "source": [
      "Check that all timeseries have values for the full range. If not, the head/tail of a column will show NaN values."
     ]
    },
    {
     "cell_type": "code",
     "collapsed": false,
     "input": [
      "print df.head()"
     ],
     "language": "python",
     "metadata": {},
     "outputs": [
      {
       "output_type": "stream",
       "stream": "stdout",
       "text": [
        "            Canada  France  Germany  Hong Kong  Japan  Netherlands  Singapore  \\\n",
        "Date                                                                            \n",
        "2010-05-07   26.36   20.64    19.18      14.83   9.94        17.56      11.15   \n",
        "2010-05-10   27.51   22.50    20.19      15.35  10.22        19.14      11.75   \n",
        "2010-05-11   27.67   22.17    20.14      15.19   9.99        18.84      11.61   \n",
        "2010-05-12   28.16   22.51    20.62      15.25  10.08        19.15      11.82   \n",
        "2010-05-13   27.86   22.10    20.45      15.18  10.00        18.83      11.63   \n",
        "\n",
        "            Sweden  Taiwan   U.K.    USA  \n",
        "Date                                      \n",
        "2010-05-07   22.51   11.84  14.29  23.65  \n",
        "2010-05-10   24.69   12.35  15.06  24.63  \n",
        "2010-05-11   24.01   12.08  14.94  24.50  \n",
        "2010-05-12   24.93   12.16  15.07  24.88  \n",
        "2010-05-13   24.29   12.17  14.87  24.93  \n",
        "\n",
        "[5 rows x 11 columns]\n"
       ]
      }
     ],
     "prompt_number": 33
    },
    {
     "cell_type": "code",
     "collapsed": false,
     "input": [
      "print df.tail()"
     ],
     "language": "python",
     "metadata": {},
     "outputs": [
      {
       "output_type": "stream",
       "stream": "stdout",
       "text": [
        "            Canada  France  Germany  Hong Kong  Japan  Netherlands  Singapore  \\\n",
        "Date                                                                            \n",
        "2013-01-18   29.19   24.07    25.06      20.12   9.87        21.07      13.64   \n",
        "2013-01-22   29.38   24.06    25.04      20.17   9.77        21.22      13.63   \n",
        "2013-01-23   29.11   23.96    25.03      20.14   9.69        21.21      13.63   \n",
        "2013-01-24   29.08   24.10    25.22      20.29   9.80        21.26      13.72   \n",
        "2013-01-25   28.98   24.58    25.80      20.31   9.87        21.63      13.67   \n",
        "\n",
        "            Sweden  Taiwan   U.K.    USA  \n",
        "Date                                      \n",
        "2013-01-18   30.74   13.45  18.15  31.96  \n",
        "2013-01-22   30.76   13.48  18.19  32.10  \n",
        "2013-01-23   30.68   13.44  18.24  32.15  \n",
        "2013-01-24   30.90   13.31  18.28  32.19  \n",
        "2013-01-25   31.48   13.24  18.45  32.33  \n",
        "\n",
        "[5 rows x 11 columns]\n"
       ]
      }
     ],
     "prompt_number": 34
    },
    {
     "cell_type": "markdown",
     "metadata": {},
     "source": [
      "Write the dataframe into a csv file for future access."
     ]
    },
    {
     "cell_type": "code",
     "collapsed": false,
     "input": [
      "df.to_csv('./data/raw/data.csv')"
     ],
     "language": "python",
     "metadata": {},
     "outputs": [],
     "prompt_number": 35
    },
    {
     "cell_type": "code",
     "collapsed": false,
     "input": [],
     "language": "python",
     "metadata": {},
     "outputs": []
    }
   ],
   "metadata": {}
  }
 ]
}